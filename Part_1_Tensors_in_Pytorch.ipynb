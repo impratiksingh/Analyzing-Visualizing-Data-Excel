{
  "nbformat": 4,
  "nbformat_minor": 0,
  "metadata": {
    "colab": {
      "name": "Part 1 Tensors in Pytorch.ipynb",
      "version": "0.3.2",
      "provenance": [],
      "collapsed_sections": [],
      "include_colab_link": true
    },
    "kernelspec": {
      "name": "python3",
      "display_name": "Python 3"
    }
  },
  "cells": [
    {
      "cell_type": "markdown",
      "metadata": {
        "id": "view-in-github",
        "colab_type": "text"
      },
      "source": [
        "<a href=\"https://colab.research.google.com/github/impratiksingh/Analyzing-Visualizing-Data-Excel/blob/master/Part_1_Tensors_in_Pytorch.ipynb\" target=\"_parent\"><img src=\"https://colab.research.google.com/assets/colab-badge.svg\" alt=\"Open In Colab\"/></a>"
      ]
    },
    {
      "metadata": {
        "id": "ZObYHLgiJbpS",
        "colab_type": "text"
      },
      "cell_type": "markdown",
      "source": [
        "**Single Neuron Network**"
      ]
    },
    {
      "metadata": {
        "id": "Vbqx1lEZmPP0",
        "colab_type": "code",
        "colab": {}
      },
      "cell_type": "code",
      "source": [
        "# http://pytorch.org/\n",
        "from os.path import exists\n",
        "from wheel.pep425tags import get_abbr_impl, get_impl_ver, get_abi_tag\n",
        "platform = '{}{}-{}'.format(get_abbr_impl(), get_impl_ver(), get_abi_tag())\n",
        "cuda_output = !ldconfig -p|grep cudart.so|sed -e 's/.*\\.\\([0-9]*\\)\\.\\([0-9]*\\)$/cu\\1\\2/'\n",
        "accelerator = cuda_output[0] if exists('/dev/nvidia0') else 'cpu'\n",
        "\n",
        "!pip install -q http://download.pytorch.org/whl/{accelerator}/torch-0.4.1-{platform}-linux_x86_64.whl torchvision\n"
      ],
      "execution_count": 0,
      "outputs": []
    },
    {
      "metadata": {
        "id": "rlIAaG9mzlxb",
        "colab_type": "code",
        "outputId": "f77fc93c-314f-4ada-c617-e70357c6128f",
        "colab": {
          "base_uri": "https://localhost:8080/",
          "height": 136
        }
      },
      "cell_type": "code",
      "source": [
        "!wget -c https://raw.githubusercontent.com/udacity/deep-learning-v2-pytorch/master/intro-to-pytorch/helper.py"
      ],
      "execution_count": 0,
      "outputs": [
        {
          "output_type": "stream",
          "text": [
            "--2018-12-04 15:08:30--  https://raw.githubusercontent.com/udacity/deep-learning-v2-pytorch/master/intro-to-pytorch/helper.py\n",
            "Resolving raw.githubusercontent.com (raw.githubusercontent.com)... 151.101.0.133, 151.101.64.133, 151.101.128.133, ...\n",
            "Connecting to raw.githubusercontent.com (raw.githubusercontent.com)|151.101.0.133|:443... connected.\n",
            "HTTP request sent, awaiting response... 416 Range Not Satisfiable\n",
            "\n",
            "    The file is already fully retrieved; nothing to do.\n",
            "\n"
          ],
          "name": "stdout"
        }
      ]
    },
    {
      "metadata": {
        "id": "8Y_8Ds_c6DRc",
        "colab_type": "code",
        "colab": {}
      },
      "cell_type": "code",
      "source": [
        "import torch"
      ],
      "execution_count": 0,
      "outputs": []
    },
    {
      "metadata": {
        "id": "Tkgy-6stInNm",
        "colab_type": "code",
        "colab": {}
      },
      "cell_type": "code",
      "source": [
        "# http://pytorch.org/\n",
        "from os.path import exists\n",
        "from wheel.pep425tags import get_abbr_impl, get_impl_ver, get_abi_tag\n",
        "platform = '{}{}-{}'.format(get_abbr_impl(), get_impl_ver(), get_abi_tag())\n",
        "cuda_output = !ldconfig -p|grep cudart.so|sed -e 's/.*\\.\\([0-9]*\\)\\.\\([0-9]*\\)$/cu\\1\\2/'\n",
        "accelerator = cuda_output[0] if exists('/dev/nvidia0') else 'cpu'\n",
        "\n",
        "!pip install -q http://download.pytorch.org/whl/{accelerator}/torch-0.4.1-{platform}-linux_x86_64.whl torchvision\n",
        "import torch"
      ],
      "execution_count": 0,
      "outputs": []
    },
    {
      "metadata": {
        "id": "ObUA2kjI6ovx",
        "colab_type": "code",
        "colab": {}
      },
      "cell_type": "code",
      "source": [
        "def activation(x):\n",
        "  return 1/(1+torch.exp(-x))"
      ],
      "execution_count": 0,
      "outputs": []
    },
    {
      "metadata": {
        "id": "vs4fANPQ6o9r",
        "colab_type": "code",
        "colab": {}
      },
      "cell_type": "code",
      "source": [
        "# Generate data\n",
        "torch.manual_seed(7)\n",
        "features=torch.randn((1,5))\n",
        "weights=torch.randn_like(features) \n",
        "bias=torch.randn((1,1))"
      ],
      "execution_count": 0,
      "outputs": []
    },
    {
      "metadata": {
        "id": "XafOttFe6pH_",
        "colab_type": "code",
        "outputId": "c1b92387-6991-4857-fbd2-16047c2c9473",
        "colab": {
          "base_uri": "https://localhost:8080/",
          "height": 68
        }
      },
      "cell_type": "code",
      "source": [
        "print(features)\n",
        "print(weights)\n",
        "print(bias)"
      ],
      "execution_count": 0,
      "outputs": [
        {
          "output_type": "stream",
          "text": [
            "tensor([[-0.1468,  0.7861,  0.9468, -1.1143,  1.6908]])\n",
            "tensor([[-0.8948, -0.3556,  1.2324,  0.1382, -1.6822]])\n",
            "tensor([[0.3177]])\n"
          ],
          "name": "stdout"
        }
      ]
    },
    {
      "metadata": {
        "id": "VrcHyRzt6pOH",
        "colab_type": "code",
        "outputId": "f18a77a1-61a0-4a14-e455-cfa47c061582",
        "colab": {
          "base_uri": "https://localhost:8080/",
          "height": 34
        }
      },
      "cell_type": "code",
      "source": [
        "## Calculate the output of this network using the weights and bias tensors\n",
        "X_theta=torch.mm(features,weights.t())\n",
        "# another method : activation(torch.sum(features*weights)+bias)\n",
        "# another method : activation((features*weights).sum()+bias)\n",
        "y=activation(X_theta+bias)\n",
        "y"
      ],
      "execution_count": 0,
      "outputs": [
        {
          "output_type": "execute_result",
          "data": {
            "text/plain": [
              "tensor([[0.1595]])"
            ]
          },
          "metadata": {
            "tags": []
          },
          "execution_count": 73
        }
      ]
    },
    {
      "metadata": {
        "id": "FJDFNd7g_9SM",
        "colab_type": "code",
        "outputId": "4f2c1129-6fbd-4205-b291-a3dc6ee129e3",
        "colab": {
          "base_uri": "https://localhost:8080/",
          "height": 34
        }
      },
      "cell_type": "code",
      "source": [
        "weights.shape"
      ],
      "execution_count": 0,
      "outputs": [
        {
          "output_type": "execute_result",
          "data": {
            "text/plain": [
              "torch.Size([1, 5])"
            ]
          },
          "metadata": {
            "tags": []
          },
          "execution_count": 74
        }
      ]
    },
    {
      "metadata": {
        "id": "TeppZOWa6pVz",
        "colab_type": "code",
        "outputId": "fd462b21-4f2f-4d32-e8d5-c12e6593b0d4",
        "colab": {
          "base_uri": "https://localhost:8080/",
          "height": 34
        }
      },
      "cell_type": "code",
      "source": [
        "## Calculate the output of this network using matrix multiplication\n",
        "# Did it already , but will try different approach here\n",
        "y=activation(torch.mm(features,weights.view(5,1)) + bias)\n",
        "y"
      ],
      "execution_count": 0,
      "outputs": [
        {
          "output_type": "execute_result",
          "data": {
            "text/plain": [
              "tensor([[0.1595]])"
            ]
          },
          "metadata": {
            "tags": []
          },
          "execution_count": 75
        }
      ]
    },
    {
      "metadata": {
        "id": "yA8vVG4UJmAm",
        "colab_type": "text"
      },
      "cell_type": "markdown",
      "source": [
        "**Multi Layer Neural Network**"
      ]
    },
    {
      "metadata": {
        "id": "1dSjHRWR6pcV",
        "colab_type": "code",
        "colab": {}
      },
      "cell_type": "code",
      "source": [
        "# Generate some Data\n",
        "torch.manual_seed(7)\n",
        "\n",
        "# Features are 3 random normal variables\n",
        "features=torch.randn((1,3))\n",
        "\n",
        "# Define size of each layer in the network\n",
        "n_input = features.shape[1]\n",
        "n_hidden=2\n",
        "n_output=1\n",
        "\n",
        "W1=torch.randn(n_input,n_hidden)\n",
        "W2=torch.randn(n_hidden,n_output)\n",
        "\n",
        "B1=torch.randn(1,n_hidden)\n",
        "B2=torch.randn(1, n_output)"
      ],
      "execution_count": 0,
      "outputs": []
    },
    {
      "metadata": {
        "id": "zQYHyXABnaY1",
        "colab_type": "code",
        "outputId": "cb437d4f-9775-48f7-b985-103cf61c68d5",
        "colab": {
          "base_uri": "https://localhost:8080/",
          "height": 102
        }
      },
      "cell_type": "code",
      "source": [
        "# Shapes\n",
        "print('Feature Shape:' , features.shape )\n",
        "print('W1 Shape:' , W1.shape )\n",
        "print('W2 Shape:' ,W2.shape )\n",
        "print('B1:' ,B1.shape )\n",
        "print('B2:' ,B2.shape )"
      ],
      "execution_count": 0,
      "outputs": [
        {
          "output_type": "stream",
          "text": [
            "Feature Shape: torch.Size([1, 3])\n",
            "W1 Shape: torch.Size([3, 2])\n",
            "W2 Shape: torch.Size([2, 1])\n",
            "B1: torch.Size([1, 2])\n",
            "B2: torch.Size([1, 1])\n"
          ],
          "name": "stdout"
        }
      ]
    },
    {
      "metadata": {
        "id": "O0jCz7YA6pfq",
        "colab_type": "code",
        "outputId": "d98b416d-adbb-4b85-d218-de665b98caad",
        "colab": {
          "base_uri": "https://localhost:8080/",
          "height": 34
        }
      },
      "cell_type": "code",
      "source": [
        "# Calculate the output for this multi-layer network using the weights W1 & W2, and the biases, B1 & B2\n",
        "h=activation(torch.mm(features,W1)+B1)\n",
        "y=activation(torch.mm(h,W2)+B2)\n",
        "y"
      ],
      "execution_count": 0,
      "outputs": [
        {
          "output_type": "execute_result",
          "data": {
            "text/plain": [
              "tensor([[0.3171]])"
            ]
          },
          "metadata": {
            "tags": []
          },
          "execution_count": 78
        }
      ]
    },
    {
      "metadata": {
        "id": "uIKCfQqz4p3Q",
        "colab_type": "text"
      },
      "cell_type": "markdown",
      "source": [
        "**Numpy to Torch and back**"
      ]
    },
    {
      "metadata": {
        "id": "QQmTCN3F6pjG",
        "colab_type": "code",
        "outputId": "e655db00-16d3-496f-de4a-34f4c63b9d8c",
        "colab": {
          "base_uri": "https://localhost:8080/",
          "height": 85
        }
      },
      "cell_type": "code",
      "source": [
        "import numpy as np\n",
        "a=np.random.rand(4,1)\n",
        "a"
      ],
      "execution_count": 0,
      "outputs": [
        {
          "output_type": "execute_result",
          "data": {
            "text/plain": [
              "array([[0.7249695 ],\n",
              "       [0.58941948],\n",
              "       [0.30245416],\n",
              "       [0.93078839]])"
            ]
          },
          "metadata": {
            "tags": []
          },
          "execution_count": 79
        }
      ]
    },
    {
      "metadata": {
        "id": "QZ4CR8K16pmm",
        "colab_type": "code",
        "outputId": "9fe72a9e-842d-474d-b0f1-ade8ccafe7df",
        "colab": {
          "base_uri": "https://localhost:8080/",
          "height": 85
        }
      },
      "cell_type": "code",
      "source": [
        "b=torch.from_numpy(a)\n",
        "b"
      ],
      "execution_count": 0,
      "outputs": [
        {
          "output_type": "execute_result",
          "data": {
            "text/plain": [
              "tensor([[0.7250],\n",
              "        [0.5894],\n",
              "        [0.3025],\n",
              "        [0.9308]], dtype=torch.float64)"
            ]
          },
          "metadata": {
            "tags": []
          },
          "execution_count": 80
        }
      ]
    },
    {
      "metadata": {
        "id": "JiYOtHoP5UrY",
        "colab_type": "code",
        "outputId": "4b4e1a6e-45b1-4c37-a976-1613b4c24b1a",
        "colab": {
          "base_uri": "https://localhost:8080/",
          "height": 85
        }
      },
      "cell_type": "code",
      "source": [
        "c=b.numpy()\n",
        "c"
      ],
      "execution_count": 0,
      "outputs": [
        {
          "output_type": "execute_result",
          "data": {
            "text/plain": [
              "array([[0.7249695 ],\n",
              "       [0.58941948],\n",
              "       [0.30245416],\n",
              "       [0.93078839]])"
            ]
          },
          "metadata": {
            "tags": []
          },
          "execution_count": 81
        }
      ]
    },
    {
      "metadata": {
        "id": "9XEXUp0V5Uuw",
        "colab_type": "code",
        "outputId": "02b9090c-3d41-47b3-a3c3-d5e3da31d8f8",
        "colab": {
          "base_uri": "https://localhost:8080/",
          "height": 85
        }
      },
      "cell_type": "code",
      "source": [
        "# Memory is shared , hence in place operation changed both tensor and numpy array\n",
        "b.mul_(2)\n"
      ],
      "execution_count": 0,
      "outputs": [
        {
          "output_type": "execute_result",
          "data": {
            "text/plain": [
              "tensor([[1.4499],\n",
              "        [1.1788],\n",
              "        [0.6049],\n",
              "        [1.8616]], dtype=torch.float64)"
            ]
          },
          "metadata": {
            "tags": []
          },
          "execution_count": 82
        }
      ]
    },
    {
      "metadata": {
        "id": "jwuAUo9p5UyV",
        "colab_type": "code",
        "outputId": "d8a4f9ed-9a2f-47a5-845c-6e49e79b936c",
        "colab": {
          "base_uri": "https://localhost:8080/",
          "height": 85
        }
      },
      "cell_type": "code",
      "source": [
        "a"
      ],
      "execution_count": 0,
      "outputs": [
        {
          "output_type": "execute_result",
          "data": {
            "text/plain": [
              "array([[1.44993901],\n",
              "       [1.17883896],\n",
              "       [0.60490832],\n",
              "       [1.86157677]])"
            ]
          },
          "metadata": {
            "tags": []
          },
          "execution_count": 83
        }
      ]
    },
    {
      "metadata": {
        "id": "FLyqJsR45U1_",
        "colab_type": "code",
        "outputId": "85fc5688-53e3-4c93-883e-5a371f769e78",
        "colab": {
          "base_uri": "https://localhost:8080/",
          "height": 85
        }
      },
      "cell_type": "code",
      "source": [
        "c"
      ],
      "execution_count": 0,
      "outputs": [
        {
          "output_type": "execute_result",
          "data": {
            "text/plain": [
              "array([[1.44993901],\n",
              "       [1.17883896],\n",
              "       [0.60490832],\n",
              "       [1.86157677]])"
            ]
          },
          "metadata": {
            "tags": []
          },
          "execution_count": 84
        }
      ]
    },
    {
      "metadata": {
        "id": "0Eecy--E6ssl",
        "colab_type": "text"
      },
      "cell_type": "markdown",
      "source": [
        "**Neural Networks with PyTorch**"
      ]
    },
    {
      "metadata": {
        "id": "bZlsTc2b0D4t",
        "colab_type": "code",
        "colab": {}
      },
      "cell_type": "code",
      "source": [
        "#!pip install helper"
      ],
      "execution_count": 0,
      "outputs": []
    },
    {
      "metadata": {
        "id": "Vh6dv_O96q8w",
        "colab_type": "code",
        "colab": {}
      },
      "cell_type": "code",
      "source": [
        "# Import Packages\n",
        "%matplotlib inline\n",
        "%config InlineBackend.figure_format = 'retina'\n",
        "\n",
        "import numpy as np\n",
        "import torch\n",
        "\n",
        "# !pip install helper\n",
        "import helper\n",
        "\n",
        "import matplotlib.pyplot as plt"
      ],
      "execution_count": 0,
      "outputs": []
    },
    {
      "metadata": {
        "id": "uFJxmlO55U9J",
        "colab_type": "code",
        "colab": {}
      },
      "cell_type": "code",
      "source": [
        "### Run this cell\n",
        "\n",
        "from torchvision import datasets, transforms\n",
        "\n",
        "# Define a transform to normalize the data\n",
        "transform = transforms.Compose([transforms.ToTensor(),\n",
        "                              transforms.Normalize((0.5,), (0.5,)),\n",
        "                              ])\n",
        "\n",
        "# Download and load the training data\n",
        "trainset = datasets.MNIST('~/.pytorch/MNIST_data/', download=True, train=True, transform=transform)\n",
        "trainloader = torch.utils.data.DataLoader(trainset, batch_size=64, shuffle=True)"
      ],
      "execution_count": 0,
      "outputs": []
    },
    {
      "metadata": {
        "id": "7vdORMU05VBI",
        "colab_type": "code",
        "outputId": "0e5aee1c-30a4-4112-afe7-1c8bb0b2c274",
        "colab": {
          "base_uri": "https://localhost:8080/",
          "height": 85
        }
      },
      "cell_type": "code",
      "source": [
        "dataiter=iter(trainloader)\n",
        "images,labels=dataiter.next()\n",
        "print(type(images))\n",
        "print(type(labels))\n",
        "print(images.shape)\n",
        "print(labels.shape)"
      ],
      "execution_count": 0,
      "outputs": [
        {
          "output_type": "stream",
          "text": [
            "<class 'torch.Tensor'>\n",
            "<class 'torch.Tensor'>\n",
            "torch.Size([64, 1, 28, 28])\n",
            "torch.Size([64])\n"
          ],
          "name": "stdout"
        }
      ]
    },
    {
      "metadata": {
        "id": "v9BHVZDV5VEk",
        "colab_type": "code",
        "outputId": "c12b19ab-329d-448e-e1dc-e06b69d475a6",
        "colab": {
          "base_uri": "https://localhost:8080/",
          "height": 265
        }
      },
      "cell_type": "code",
      "source": [
        "plt.imshow(images[1].numpy().squeeze(), cmap='Greys_r');\n"
      ],
      "execution_count": 0,
      "outputs": [
        {
          "output_type": "display_data",
          "data": {
            "image/png": "[encoded data removed]",
            "text/plain": [
              "<matplotlib.figure.Figure at 0x7f884f22a518>"
            ]
          },
          "metadata": {
            "tags": [],
            "image/png": {
              "width": 249,
              "height": 248
            }
          }
        }
      ]
    },
    {
      "metadata": {
        "id": "TqWUJWP-5VIZ",
        "colab_type": "code",
        "outputId": "f4b4ae4f-67c8-47ae-9a1d-797b9d075390",
        "colab": {
          "base_uri": "https://localhost:8080/",
          "height": 34
        }
      },
      "cell_type": "code",
      "source": [
        "n_inputs=784\n",
        "n_hidden=256\n",
        "n_output=10\n",
        "features=images.view(images.shape[0],-1) # We could have written (64,784) but -1 , gives pytorch to calculate the remaining space and derive value by itself\n",
        "W1=torch.randn(n_inputs,n_hidden)\n",
        "W2=torch.randn(n_hidden,n_output)\n",
        "B1=torch.randn(1,n_hidden)  \n",
        "B2=torch.randn(1,n_output) # This can be written as torch.randn(10) so whats the difference between tensor and matrix.\n",
        "\n",
        "h=activation(torch.mm(features,W1)+B1)\n",
        "out=activation(torch.mm(h,W2)+B2)\n",
        "out.shape\n"
      ],
      "execution_count": 0,
      "outputs": [
        {
          "output_type": "execute_result",
          "data": {
            "text/plain": [
              "torch.Size([64, 10])"
            ]
          },
          "metadata": {
            "tags": []
          },
          "execution_count": 90
        }
      ]
    },
    {
      "metadata": {
        "id": "OHS1BAHS5VMg",
        "colab_type": "code",
        "colab": {}
      },
      "cell_type": "code",
      "source": [
        "# p=torch.randn(4)\n",
        "# q=torch.randn(1,4)\n",
        "# torch.mm(p,q)\n",
        "# differece between 2d tensor and 2d matrix"
      ],
      "execution_count": 0,
      "outputs": []
    },
    {
      "metadata": {
        "id": "5hfjM0NToVc3",
        "colab_type": "code",
        "colab": {}
      },
      "cell_type": "code",
      "source": [
        "# RuntimeError: \"exp\" not implemented for 'torch.LongTensor' , when dtype is not defined\n",
        "# p=torch.tensor([0,1],dtype=torch.double)\n",
        "# torch.exp(p)"
      ],
      "execution_count": 0,
      "outputs": []
    },
    {
      "metadata": {
        "id": "WKYIty-koVhA",
        "colab_type": "code",
        "outputId": "257d2ab0-fcf1-43a9-dddf-bd03cbaa0f0a",
        "colab": {
          "base_uri": "https://localhost:8080/",
          "height": 170
        }
      },
      "cell_type": "code",
      "source": [
        "def softmax(x):\n",
        "    ## TODO: Implement the softmax function here\n",
        "    n=torch.exp(x)\n",
        "    d=torch.exp(x).sum(dim=1).view(64,-1)\n",
        "    return n/d\n",
        "# Here, out should be the output of the network in the previous excercise with shape (64,10)\n",
        "probabilities = softmax(out)\n",
        "\n",
        "# Does it have the right shape? Should be (64, 10)\n",
        "print(probabilities.shape)\n",
        "# Does it sum to 1?\n",
        "print(probabilities.sum(dim=1))"
      ],
      "execution_count": 0,
      "outputs": [
        {
          "output_type": "stream",
          "text": [
            "torch.Size([64, 10])\n",
            "tensor([1.0000, 1.0000, 1.0000, 1.0000, 1.0000, 1.0000, 1.0000, 1.0000, 1.0000,\n",
            "        1.0000, 1.0000, 1.0000, 1.0000, 1.0000, 1.0000, 1.0000, 1.0000, 1.0000,\n",
            "        1.0000, 1.0000, 1.0000, 1.0000, 1.0000, 1.0000, 1.0000, 1.0000, 1.0000,\n",
            "        1.0000, 1.0000, 1.0000, 1.0000, 1.0000, 1.0000, 1.0000, 1.0000, 1.0000,\n",
            "        1.0000, 1.0000, 1.0000, 1.0000, 1.0000, 1.0000, 1.0000, 1.0000, 1.0000,\n",
            "        1.0000, 1.0000, 1.0000, 1.0000, 1.0000, 1.0000, 1.0000, 1.0000, 1.0000,\n",
            "        1.0000, 1.0000, 1.0000, 1.0000, 1.0000, 1.0000, 1.0000, 1.0000, 1.0000,\n",
            "        1.0000])\n"
          ],
          "name": "stdout"
        }
      ]
    },
    {
      "metadata": {
        "id": "0oifgGtzurSo",
        "colab_type": "text"
      },
      "cell_type": "markdown",
      "source": [
        "**Building networks with PyTorch**"
      ]
    },
    {
      "metadata": {
        "id": "Ra25L5ERoVnC",
        "colab_type": "code",
        "colab": {}
      },
      "cell_type": "code",
      "source": [
        "from torch import nn"
      ],
      "execution_count": 0,
      "outputs": []
    },
    {
      "metadata": {
        "id": "GZUoB5c4u26e",
        "colab_type": "code",
        "colab": {}
      },
      "cell_type": "code",
      "source": [
        "class Network(nn.Module):\n",
        "  def __init__(self):\n",
        "    super().__init__()\n",
        "    self.hidden=nn.Linear(784,256)\n",
        "    self.output=nn.Linear(256,10)\n",
        "    \n",
        "    self.sigmoid=nn.Sigmoid()\n",
        "    self.softmax=nn.Softmax(dim=1)\n",
        "    \n",
        "  def forward(self, x):\n",
        "    x=self.hidden(x)\n",
        "    x=self.sigmoid(x)\n",
        "    x=self.output(x)\n",
        "    x=self.softmax(x)\n",
        "    \n",
        "    return x\n",
        "  "
      ],
      "execution_count": 0,
      "outputs": []
    },
    {
      "metadata": {
        "id": "afxc-n3yu2-D",
        "colab_type": "code",
        "outputId": "28cc9cbb-ccf0-47c3-e312-1a0678659ec2",
        "colab": {
          "base_uri": "https://localhost:8080/",
          "height": 119
        }
      },
      "cell_type": "code",
      "source": [
        "model=Network()\n",
        "model"
      ],
      "execution_count": 0,
      "outputs": [
        {
          "output_type": "execute_result",
          "data": {
            "text/plain": [
              "Network(\n",
              "  (hidden): Linear(in_features=784, out_features=256, bias=True)\n",
              "  (output): Linear(in_features=256, out_features=10, bias=True)\n",
              "  (sigmoid): Sigmoid()\n",
              "  (softmax): Softmax()\n",
              ")"
            ]
          },
          "metadata": {
            "tags": []
          },
          "execution_count": 96
        }
      ]
    },
    {
      "metadata": {
        "id": "ec3k0h4mu3EU",
        "colab_type": "code",
        "colab": {}
      },
      "cell_type": "code",
      "source": [
        "# A Precise way of writing\n",
        "import torch.nn.functional as F\n",
        "class Network(nn.Module):\n",
        "  def __init__(self):\n",
        "    super().__init__()\n",
        "    self.hidden=nn.Linear(784,256)\n",
        "    self.output=nn.Linear(256,10)\n",
        "    \n",
        "    \n",
        "    \n",
        "  def forward(self, x):\n",
        "    x=F.sigmoid(self.hidden(x))\n",
        "    x=F.softmax(self.output(x))\n",
        "    \n",
        "    return x\n",
        "  \n"
      ],
      "execution_count": 0,
      "outputs": []
    },
    {
      "metadata": {
        "id": "-Ra2or-qu3NR",
        "colab_type": "code",
        "outputId": "d6fb9e31-7b5c-43e9-a7cc-48d0a8ad7179",
        "colab": {
          "base_uri": "https://localhost:8080/",
          "height": 85
        }
      },
      "cell_type": "code",
      "source": [
        "model=Network()\n",
        "model"
      ],
      "execution_count": 0,
      "outputs": [
        {
          "output_type": "execute_result",
          "data": {
            "text/plain": [
              "Network(\n",
              "  (hidden): Linear(in_features=784, out_features=256, bias=True)\n",
              "  (output): Linear(in_features=256, out_features=10, bias=True)\n",
              ")"
            ]
          },
          "metadata": {
            "tags": []
          },
          "execution_count": 98
        }
      ]
    },
    {
      "metadata": {
        "id": "cChChQTyEBEv",
        "colab_type": "text"
      },
      "cell_type": "markdown",
      "source": [
        "**Exercise: Create a network with 784 input units, a hidden layer with 128 units and a ReLU activation, then a hidden layer with 64 units and a ReLU activation, and finally an output layer with a softmax activation as shown above. You can use a ReLU activation with the nn.ReLU module or F.relu function.**"
      ]
    },
    {
      "metadata": {
        "id": "KZsBDkeSu3Up",
        "colab_type": "code",
        "outputId": "88b9f0fb-b2dd-460f-f28d-ba1eae67676e",
        "colab": {
          "base_uri": "https://localhost:8080/",
          "height": 102
        }
      },
      "cell_type": "code",
      "source": [
        "class ReluNetwork(nn.Module):\n",
        "  def __init__(self):\n",
        "    super().__init__()\n",
        "    \n",
        "    self.hidden1=nn.Linear(784,128)\n",
        "    self.hidden2=nn.Linear(128,64)\n",
        "    self.output=nn.Linear(64,10)\n",
        "    \n",
        "    \n",
        "    \n",
        "  def forward(self,x):\n",
        "    x=F.relu(self.hidden1(x))\n",
        "    x=F.relu(self.hidden2(x))\n",
        "    x=F.softmax(self.output(x),dim=1)\n",
        "    \n",
        "    return x\n",
        "  \n",
        "model=ReluNetwork()\n",
        "model   "
      ],
      "execution_count": 0,
      "outputs": [
        {
          "output_type": "execute_result",
          "data": {
            "text/plain": [
              "ReluNetwork(\n",
              "  (hidden1): Linear(in_features=784, out_features=128, bias=True)\n",
              "  (hidden2): Linear(in_features=128, out_features=64, bias=True)\n",
              "  (output): Linear(in_features=64, out_features=10, bias=True)\n",
              ")"
            ]
          },
          "metadata": {
            "tags": []
          },
          "execution_count": 99
        }
      ]
    },
    {
      "metadata": {
        "id": "N0jh2EkIu3eJ",
        "colab_type": "code",
        "outputId": "6a139513-90b7-479c-cc88-3b4c9e0c2c1a",
        "colab": {
          "base_uri": "https://localhost:8080/",
          "height": 612
        }
      },
      "cell_type": "code",
      "source": [
        "# Customising the automatically initialized weights and biases\n",
        "print(model.hidden1.bias)\n",
        "print(model.hidden1.weight)\n",
        "\n",
        "# modify the bias to 0 , in place modification\n",
        "model.hidden1.bias.data.fill_(0)"
      ],
      "execution_count": 0,
      "outputs": [
        {
          "output_type": "stream",
          "text": [
            "Parameter containing:\n",
            "tensor([-0.0055, -0.0025, -0.0040,  0.0211, -0.0023,  0.0197, -0.0098,  0.0086,\n",
            "         0.0153,  0.0127, -0.0080, -0.0018,  0.0310,  0.0209, -0.0279,  0.0038,\n",
            "         0.0211, -0.0280, -0.0354, -0.0346,  0.0077,  0.0270,  0.0150, -0.0330,\n",
            "         0.0125,  0.0229, -0.0355, -0.0016,  0.0294,  0.0053,  0.0350,  0.0210,\n",
            "         0.0011,  0.0176,  0.0002, -0.0127, -0.0130, -0.0164, -0.0134, -0.0212,\n",
            "        -0.0277,  0.0214,  0.0184,  0.0059, -0.0313, -0.0188,  0.0225,  0.0299,\n",
            "         0.0299,  0.0047, -0.0238, -0.0196,  0.0241,  0.0200, -0.0347, -0.0111,\n",
            "         0.0093, -0.0025, -0.0106,  0.0144,  0.0206, -0.0061,  0.0274, -0.0055,\n",
            "        -0.0128, -0.0354,  0.0009,  0.0235,  0.0074, -0.0114, -0.0300, -0.0162,\n",
            "         0.0109,  0.0064,  0.0137,  0.0116,  0.0147,  0.0229,  0.0002, -0.0051,\n",
            "         0.0008, -0.0148, -0.0055, -0.0066,  0.0146, -0.0197,  0.0296, -0.0122,\n",
            "        -0.0259, -0.0357, -0.0261,  0.0071, -0.0005, -0.0032, -0.0273,  0.0274,\n",
            "         0.0201,  0.0258, -0.0009, -0.0258, -0.0201, -0.0246, -0.0325, -0.0046,\n",
            "         0.0031, -0.0323, -0.0232, -0.0155,  0.0153,  0.0127, -0.0217,  0.0051,\n",
            "         0.0143, -0.0073,  0.0288, -0.0254, -0.0116, -0.0073,  0.0269,  0.0228,\n",
            "        -0.0298, -0.0285,  0.0147,  0.0162, -0.0060, -0.0224, -0.0093,  0.0154],\n",
            "       requires_grad=True)\n",
            "Parameter containing:\n",
            "tensor([[-0.0027, -0.0015,  0.0289,  ...,  0.0127,  0.0287,  0.0160],\n",
            "        [ 0.0148, -0.0356,  0.0197,  ...,  0.0144, -0.0031,  0.0178],\n",
            "        [-0.0047, -0.0077, -0.0325,  ...,  0.0319,  0.0353,  0.0111],\n",
            "        ...,\n",
            "        [ 0.0268, -0.0230,  0.0033,  ...,  0.0229,  0.0125,  0.0056],\n",
            "        [ 0.0048, -0.0178, -0.0268,  ...,  0.0226, -0.0118, -0.0277],\n",
            "        [-0.0298,  0.0009,  0.0248,  ..., -0.0197, -0.0324, -0.0007]],\n",
            "       requires_grad=True)\n"
          ],
          "name": "stdout"
        },
        {
          "output_type": "execute_result",
          "data": {
            "text/plain": [
              "tensor([0., 0., 0., 0., 0., 0., 0., 0., 0., 0., 0., 0., 0., 0., 0., 0., 0., 0.,\n",
              "        0., 0., 0., 0., 0., 0., 0., 0., 0., 0., 0., 0., 0., 0., 0., 0., 0., 0.,\n",
              "        0., 0., 0., 0., 0., 0., 0., 0., 0., 0., 0., 0., 0., 0., 0., 0., 0., 0.,\n",
              "        0., 0., 0., 0., 0., 0., 0., 0., 0., 0., 0., 0., 0., 0., 0., 0., 0., 0.,\n",
              "        0., 0., 0., 0., 0., 0., 0., 0., 0., 0., 0., 0., 0., 0., 0., 0., 0., 0.,\n",
              "        0., 0., 0., 0., 0., 0., 0., 0., 0., 0., 0., 0., 0., 0., 0., 0., 0., 0.,\n",
              "        0., 0., 0., 0., 0., 0., 0., 0., 0., 0., 0., 0., 0., 0., 0., 0., 0., 0.,\n",
              "        0., 0.])"
            ]
          },
          "metadata": {
            "tags": []
          },
          "execution_count": 100
        }
      ]
    },
    {
      "metadata": {
        "id": "Hf-MY0hEu3lA",
        "colab_type": "code",
        "outputId": "68267c22-b408-41ec-b401-6d9d32cb125c",
        "colab": {
          "base_uri": "https://localhost:8080/",
          "height": 244
        }
      },
      "cell_type": "code",
      "source": [
        "# Forward Pass\n",
        "# Now we  have the network , we now see , what happens when we pass\n",
        "# Grab the data \n",
        "dataiter=iter(trainloader)\n",
        "images,lables=dataiter.next()\n",
        "images.resize_(64,1,784)\n",
        "img_idx=0\n",
        "ps=model.forward(images[img_idx,:])\n",
        "img=images[img_idx]\n",
        "helper.view_classify(img.view(1,28,28),ps)"
      ],
      "execution_count": 0,
      "outputs": [
        {
          "output_type": "display_data",
          "data": {
            "image/png": "[encoded data removed]",
            "text/plain": [
              "<matplotlib.figure.Figure at 0x7f884c976eb8>"
            ]
          },
          "metadata": {
            "tags": [],
            "image/png": {
              "width": 424,
              "height": 227
            }
          }
        }
      ]
    },
    {
      "metadata": {
        "id": "O_1k3foQ128s",
        "colab_type": "text"
      },
      "cell_type": "markdown",
      "source": [
        "**Using nn.Sequential**\n",
        "\n",
        "A convenient way to build network , where a network is passed sequentially through operations\n",
        "\n",
        "\n"
      ]
    },
    {
      "metadata": {
        "id": "-gyrYGODzNjx",
        "colab_type": "code",
        "outputId": "5b022e71-6a72-4967-8888-5624405a1848",
        "colab": {
          "base_uri": "https://localhost:8080/",
          "height": 153
        }
      },
      "cell_type": "code",
      "source": [
        "input_size=784;\n",
        "hidden_sizes=[128,64]\n",
        "output_size=10\n",
        "\n",
        "# Build a feed Forward Network\n",
        "model=nn.Sequential(nn.Linear(input_size,hidden_sizes[0]),\n",
        "                   nn.ReLU(),\n",
        "                   nn.Linear(hidden_sizes[0],hidden_sizes[1]),\n",
        "                   nn.ReLU(),\n",
        "                   nn.Linear(hidden_sizes[1],output_size),\n",
        "                   nn.Softmax(dim=1))\n",
        "print(model)\n",
        "                    \n",
        "\n"
      ],
      "execution_count": 0,
      "outputs": [
        {
          "output_type": "stream",
          "text": [
            "Sequential(\n",
            "  (0): Linear(in_features=784, out_features=128, bias=True)\n",
            "  (1): ReLU()\n",
            "  (2): Linear(in_features=128, out_features=64, bias=True)\n",
            "  (3): ReLU()\n",
            "  (4): Linear(in_features=64, out_features=10, bias=True)\n",
            "  (5): Softmax()\n",
            ")\n"
          ],
          "name": "stdout"
        }
      ]
    },
    {
      "metadata": {
        "id": "aKHkfxwGu3Kx",
        "colab_type": "code",
        "outputId": "4c38768c-6974-49c2-b347-420ed5a4fbb1",
        "colab": {
          "base_uri": "https://localhost:8080/",
          "height": 244
        }
      },
      "cell_type": "code",
      "source": [
        "# Forward pass through the network and display the output\n",
        "images, labels=next(iter(trainloader))\n",
        "images.resize_(images.shape[0],1,784)\n",
        "ps=model.forward(images[0,:])\n",
        "helper.view_classify(images[0].view(1,28,28),ps)"
      ],
      "execution_count": 0,
      "outputs": [
        {
          "output_type": "display_data",
          "data": {
            "image/png": "[encoded data removed]",
            "text/plain": [
              "<matplotlib.figure.Figure at 0x7f884c01a320>"
            ]
          },
          "metadata": {
            "tags": [],
            "image/png": {
              "width": 424,
              "height": 227
            }
          }
        }
      ]
    },
    {
      "metadata": {
        "id": "50MJuXjBu3Iw",
        "colab_type": "code",
        "outputId": "1bd92162-f8a1-4725-99dd-ba3ce89976d1",
        "colab": {
          "base_uri": "https://localhost:8080/",
          "height": 187
        }
      },
      "cell_type": "code",
      "source": [
        "print(model[0])\n",
        "print(model[0].weight)"
      ],
      "execution_count": 0,
      "outputs": [
        {
          "output_type": "stream",
          "text": [
            "Linear(in_features=784, out_features=128, bias=True)\n",
            "Parameter containing:\n",
            "tensor([[-0.0003,  0.0092,  0.0179,  ...,  0.0338, -0.0121,  0.0168],\n",
            "        [-0.0023, -0.0218, -0.0087,  ..., -0.0076,  0.0301,  0.0228],\n",
            "        [-0.0023,  0.0242, -0.0152,  ..., -0.0067,  0.0055, -0.0151],\n",
            "        ...,\n",
            "        [-0.0272, -0.0105, -0.0148,  ...,  0.0160,  0.0097,  0.0348],\n",
            "        [-0.0000, -0.0195,  0.0124,  ..., -0.0323,  0.0258, -0.0325],\n",
            "        [ 0.0203, -0.0347, -0.0327,  ..., -0.0324,  0.0030, -0.0327]],\n",
            "       requires_grad=True)\n"
          ],
          "name": "stdout"
        }
      ]
    },
    {
      "metadata": {
        "id": "kHqvD_hHZRak",
        "colab_type": "text"
      },
      "cell_type": "markdown",
      "source": [
        "**Loss in Pytorch**"
      ]
    },
    {
      "metadata": {
        "id": "-LniqJqZu3CD",
        "colab_type": "code",
        "colab": {}
      },
      "cell_type": "code",
      "source": [
        "import torch\n",
        "from torch import nn\n",
        "import torch.nn.functional as F\n",
        "from torchvision import datasets, transforms\n",
        "\n",
        "# Define a transform to normalize the data\n",
        "transform = transforms.Compose([transforms.ToTensor(),\n",
        "                                transforms.Normalize((0.5, 0.5, 0.5), (0.5, 0.5, 0.5)),\n",
        "                              ])\n",
        "# Download and load the training data\n",
        "trainset = datasets.MNIST('~/.pytorch/MNIST_data/', download=True, train=True, transform=transform)\n",
        "trainloader = torch.utils.data.DataLoader(trainset, batch_size=64, shuffle=True)"
      ],
      "execution_count": 0,
      "outputs": []
    },
    {
      "metadata": {
        "id": "ac_dEsvAoVtp",
        "colab_type": "code",
        "outputId": "4ff69009-bcb2-4d4a-a11d-d0720e1d1aea",
        "colab": {
          "base_uri": "https://localhost:8080/",
          "height": 34
        }
      },
      "cell_type": "code",
      "source": [
        "# Build a feed-forward network\n",
        "model = nn.Sequential(nn.Linear(784, 128),\n",
        "                      nn.ReLU(),\n",
        "                      nn.Linear(128, 64),\n",
        "                      nn.ReLU(),\n",
        "                      nn.Linear(64, 10))\n",
        "\n",
        "# Define the loss\n",
        "criterion = nn.CrossEntropyLoss()\n",
        "\n",
        "# Get our data\n",
        "images, labels = next(iter(trainloader))\n",
        "# Flatten images\n",
        "images = images.view(images.shape[0], -1)\n",
        "\n",
        "# Forward pass, get our logits\n",
        "logits = model(images)\n",
        "# Calculate the loss with the logits and the labels\n",
        "loss = criterion(logits, labels)\n",
        "\n",
        "print(loss)"
      ],
      "execution_count": 0,
      "outputs": [
        {
          "output_type": "stream",
          "text": [
            "tensor(2.3233, grad_fn=<NllLossBackward>)\n"
          ],
          "name": "stdout"
        }
      ]
    },
    {
      "metadata": {
        "id": "u1z0WqPLbHu5",
        "colab_type": "text"
      },
      "cell_type": "markdown",
      "source": [
        "Exercise: Build a model that returns the log-softmax as the output and calculate the loss using the negative log likelihood loss. Note that for nn.LogSoftmax and F.log_softmax you'll need to set the dim keyword argument appropriately. dim=0 calculates softmax across the rows, so each column sums to 1, while dim=1 calculates across the columns so each row sums to 1. Think about what you want the output to be and choose dim appropriately."
      ]
    },
    {
      "metadata": {
        "id": "9yGUJnaxoVrG",
        "colab_type": "code",
        "outputId": "74e772cf-6871-4e83-a1de-be28e582f23f",
        "colab": {
          "base_uri": "https://localhost:8080/",
          "height": 34
        }
      },
      "cell_type": "code",
      "source": [
        "# Build a feed-forward network\n",
        "model = nn.Sequential(nn.Linear(784, 128),\n",
        "                      nn.ReLU(),\n",
        "                      nn.Linear(128, 64),\n",
        "                      nn.ReLU(),\n",
        "                      nn.Linear(64, 10),\n",
        "                      nn.LogSoftmax(dim=1))\n",
        "\n",
        "# Define the loss\n",
        "criterion = nn.NLLLoss()\n",
        "\n",
        "# Get our data\n",
        "images, labels = next(iter(trainloader))\n",
        "# Flatten images\n",
        "images = images.view(images.shape[0], -1)\n",
        "\n",
        "# Forward pass, get our logits\n",
        "logits = model(images)\n",
        "# Calculate the loss with the logits and the labels\n",
        "loss = criterion(logits, labels)\n",
        "\n",
        "print(loss)"
      ],
      "execution_count": 0,
      "outputs": [
        {
          "output_type": "stream",
          "text": [
            "tensor(2.3134, grad_fn=<NllLossBackward>)\n"
          ],
          "name": "stdout"
        }
      ]
    },
    {
      "metadata": {
        "id": "IGEqtat_QL1J",
        "colab_type": "text"
      },
      "cell_type": "markdown",
      "source": [
        "**Autograd**"
      ]
    },
    {
      "metadata": {
        "id": "1orw5GvcacGb",
        "colab_type": "code",
        "outputId": "dd8b4e45-90dc-4041-c66b-f7374ee91c26",
        "colab": {
          "base_uri": "https://localhost:8080/",
          "height": 51
        }
      },
      "cell_type": "code",
      "source": [
        "x=torch.randn(2,2,requires_grad=True)\n",
        "print(x)"
      ],
      "execution_count": 0,
      "outputs": [
        {
          "output_type": "stream",
          "text": [
            "tensor([[ 0.3746, -0.5946],\n",
            "        [ 1.6155,  0.7241]], requires_grad=True)\n"
          ],
          "name": "stdout"
        }
      ]
    },
    {
      "metadata": {
        "id": "fq6WveXnQLeO",
        "colab_type": "code",
        "outputId": "17188a94-7168-4f7b-be21-fc8bd0975b05",
        "colab": {
          "base_uri": "https://localhost:8080/",
          "height": 51
        }
      },
      "cell_type": "code",
      "source": [
        "y=x**2\n",
        "print(y)"
      ],
      "execution_count": 0,
      "outputs": [
        {
          "output_type": "stream",
          "text": [
            "tensor([[0.1404, 0.3535],\n",
            "        [2.6099, 0.5243]], grad_fn=<PowBackward0>)\n"
          ],
          "name": "stdout"
        }
      ]
    },
    {
      "metadata": {
        "id": "NS9I5XTLacQV",
        "colab_type": "code",
        "outputId": "bfca5684-86a0-4cf5-a88f-111889875389",
        "colab": {
          "base_uri": "https://localhost:8080/",
          "height": 34
        }
      },
      "cell_type": "code",
      "source": [
        "print(y.grad_fn)"
      ],
      "execution_count": 0,
      "outputs": [
        {
          "output_type": "stream",
          "text": [
            "<PowBackward0 object at 0x7f884c8d5048>\n"
          ],
          "name": "stdout"
        }
      ]
    },
    {
      "metadata": {
        "id": "MduhCaNfacVO",
        "colab_type": "code",
        "outputId": "d9897c73-a285-490f-bfb0-fd6ae8b30a00",
        "colab": {
          "base_uri": "https://localhost:8080/",
          "height": 34
        }
      },
      "cell_type": "code",
      "source": [
        "z=y.mean()\n",
        "z"
      ],
      "execution_count": 0,
      "outputs": [
        {
          "output_type": "execute_result",
          "data": {
            "text/plain": [
              "tensor(0.9070, grad_fn=<MeanBackward1>)"
            ]
          },
          "metadata": {
            "tags": []
          },
          "execution_count": 111
        }
      ]
    },
    {
      "metadata": {
        "id": "-Ze_3WXcacNJ",
        "colab_type": "code",
        "outputId": "24184b4c-d362-4a3c-f65a-f152792eac5f",
        "colab": {
          "base_uri": "https://localhost:8080/",
          "height": 34
        }
      },
      "cell_type": "code",
      "source": [
        "print(x.grad)"
      ],
      "execution_count": 0,
      "outputs": [
        {
          "output_type": "stream",
          "text": [
            "None\n"
          ],
          "name": "stdout"
        }
      ]
    },
    {
      "metadata": {
        "id": "A9KSka3hacLP",
        "colab_type": "code",
        "outputId": "9e1f597f-aa95-44d1-df42-b19d03b4ba79",
        "colab": {
          "base_uri": "https://localhost:8080/",
          "height": 85
        }
      },
      "cell_type": "code",
      "source": [
        "z.backward()\n",
        "print(x.grad)\n",
        "print(x/2)"
      ],
      "execution_count": 0,
      "outputs": [
        {
          "output_type": "stream",
          "text": [
            "tensor([[ 0.1873, -0.2973],\n",
            "        [ 0.8078,  0.3620]])\n",
            "tensor([[ 0.1873, -0.2973],\n",
            "        [ 0.8078,  0.3620]], grad_fn=<DivBackward0>)\n"
          ],
          "name": "stdout"
        }
      ]
    },
    {
      "metadata": {
        "id": "7Z-48vhHWfC8",
        "colab_type": "text"
      },
      "cell_type": "markdown",
      "source": [
        "**Loss and Autograd together**"
      ]
    },
    {
      "metadata": {
        "id": "WZMpciEcWdeG",
        "colab_type": "code",
        "colab": {}
      },
      "cell_type": "code",
      "source": [
        "# Build a feed-forward network\n",
        "model = nn.Sequential(nn.Linear(784, 128),\n",
        "                      nn.ReLU(),\n",
        "                      nn.Linear(128, 64),\n",
        "                      nn.ReLU(),\n",
        "                      nn.Linear(64, 10),\n",
        "                      nn.LogSoftmax(dim=1))\n",
        "\n",
        "criterion = nn.NLLLoss()\n",
        "images, labels = next(iter(trainloader))\n",
        "images = images.view(images.shape[0], -1)\n",
        "\n",
        "logits = model(images)\n",
        "loss = criterion(logits, labels)"
      ],
      "execution_count": 0,
      "outputs": []
    },
    {
      "metadata": {
        "id": "PSfstiPnoVkv",
        "colab_type": "code",
        "outputId": "3e560774-719f-4a9a-8b03-7b62aceff931",
        "colab": {
          "base_uri": "https://localhost:8080/",
          "height": 187
        }
      },
      "cell_type": "code",
      "source": [
        "print('Before backward pass: \\n', model[0].weight.grad)\n",
        "\n",
        "loss.backward()\n",
        "\n",
        "print('After backward pass: \\n', model[0].weight.grad)"
      ],
      "execution_count": 0,
      "outputs": [
        {
          "output_type": "stream",
          "text": [
            "Before backward pass: \n",
            " None\n",
            "After backward pass: \n",
            " tensor([[ 0.0002,  0.0002,  0.0002,  ...,  0.0002,  0.0002,  0.0002],\n",
            "        [ 0.0014,  0.0014,  0.0014,  ...,  0.0014,  0.0014,  0.0014],\n",
            "        [-0.0001, -0.0001, -0.0001,  ..., -0.0001, -0.0001, -0.0001],\n",
            "        ...,\n",
            "        [ 0.0021,  0.0021,  0.0021,  ...,  0.0021,  0.0021,  0.0021],\n",
            "        [ 0.0011,  0.0011,  0.0011,  ...,  0.0011,  0.0011,  0.0011],\n",
            "        [-0.0002, -0.0002, -0.0002,  ..., -0.0002, -0.0002, -0.0002]])\n"
          ],
          "name": "stdout"
        }
      ]
    },
    {
      "metadata": {
        "id": "AJCn1DEDXKw4",
        "colab_type": "text"
      },
      "cell_type": "markdown",
      "source": [
        "**Training the network!**"
      ]
    },
    {
      "metadata": {
        "id": "LqrmHRdGXJol",
        "colab_type": "code",
        "colab": {}
      },
      "cell_type": "code",
      "source": [
        "from torch import optim\n",
        "\n",
        "# Optimizers require the parameters to optimize and a learning rate\n",
        "optimizer = optim.SGD(model.parameters(), lr=0.01)"
      ],
      "execution_count": 0,
      "outputs": []
    },
    {
      "metadata": {
        "id": "CWRl9R3sXJ2z",
        "colab_type": "code",
        "outputId": "b1da401d-6a66-4bd6-c1d7-eaa999fc3afc",
        "colab": {
          "base_uri": "https://localhost:8080/",
          "height": 289
        }
      },
      "cell_type": "code",
      "source": [
        "print('Initial weights - ', model[0].weight)\n",
        "\n",
        "images, labels = next(iter(trainloader))\n",
        "images.resize_(64, 784)\n",
        "\n",
        "# Clear the gradients, do this because gradients are accumulated\n",
        "optimizer.zero_grad()\n",
        "\n",
        "# Forward pass, then backward pass, then update weights\n",
        "output = model.forward(images)\n",
        "loss = criterion(output, labels)\n",
        "loss.backward()\n",
        "print('Gradient -', model[0].weight.grad)"
      ],
      "execution_count": 0,
      "outputs": [
        {
          "output_type": "stream",
          "text": [
            "Initial weights -  Parameter containing:\n",
            "tensor([[ 0.0238,  0.0077, -0.0350,  ...,  0.0015, -0.0222, -0.0184],\n",
            "        [ 0.0027, -0.0000,  0.0091,  ..., -0.0321,  0.0040,  0.0083],\n",
            "        [ 0.0205, -0.0091, -0.0183,  ..., -0.0141, -0.0218,  0.0306],\n",
            "        ...,\n",
            "        [-0.0329,  0.0270, -0.0075,  ..., -0.0110, -0.0060,  0.0344],\n",
            "        [-0.0355,  0.0328,  0.0218,  ..., -0.0343,  0.0312,  0.0318],\n",
            "        [-0.0091, -0.0139, -0.0021,  ..., -0.0149, -0.0205,  0.0125]],\n",
            "       requires_grad=True)\n",
            "Gradient - tensor([[-0.0012, -0.0012, -0.0012,  ..., -0.0012, -0.0012, -0.0012],\n",
            "        [ 0.0014,  0.0014,  0.0014,  ...,  0.0014,  0.0014,  0.0014],\n",
            "        [-0.0001, -0.0001, -0.0001,  ..., -0.0001, -0.0001, -0.0001],\n",
            "        ...,\n",
            "        [ 0.0014,  0.0014,  0.0014,  ...,  0.0014,  0.0014,  0.0014],\n",
            "        [ 0.0015,  0.0015,  0.0015,  ...,  0.0015,  0.0015,  0.0015],\n",
            "        [-0.0037, -0.0037, -0.0037,  ..., -0.0037, -0.0037, -0.0037]])\n"
          ],
          "name": "stdout"
        }
      ]
    },
    {
      "metadata": {
        "id": "-GTTGGtcXJ8P",
        "colab_type": "code",
        "outputId": "3f1cf4c4-94ce-49b3-f523-591081c79908",
        "colab": {
          "base_uri": "https://localhost:8080/",
          "height": 170
        }
      },
      "cell_type": "code",
      "source": [
        "# Take an update step and few the new weights\n",
        "optimizer.step()\n",
        "print('Updated weights - ', model[0].weight)"
      ],
      "execution_count": 0,
      "outputs": [
        {
          "output_type": "stream",
          "text": [
            "Updated weights -  Parameter containing:\n",
            "tensor([[ 0.0238,  0.0077, -0.0350,  ...,  0.0015, -0.0222, -0.0184],\n",
            "        [ 0.0027, -0.0000,  0.0091,  ..., -0.0321,  0.0040,  0.0083],\n",
            "        [ 0.0205, -0.0091, -0.0183,  ..., -0.0141, -0.0218,  0.0306],\n",
            "        ...,\n",
            "        [-0.0329,  0.0270, -0.0075,  ..., -0.0111, -0.0060,  0.0344],\n",
            "        [-0.0355,  0.0328,  0.0217,  ..., -0.0344,  0.0312,  0.0318],\n",
            "        [-0.0091, -0.0139, -0.0021,  ..., -0.0149, -0.0205,  0.0125]],\n",
            "       requires_grad=True)\n"
          ],
          "name": "stdout"
        }
      ]
    },
    {
      "metadata": {
        "id": "iF_7mq7hYHAj",
        "colab_type": "text"
      },
      "cell_type": "markdown",
      "source": [
        "**Exercise: Implement the training pass for our network. If you implemented it correctly, you should see the training loss drop with each epoch.**"
      ]
    },
    {
      "metadata": {
        "id": "YdhWHApCXKMR",
        "colab_type": "code",
        "outputId": "27d04ce7-a8c4-42bc-d24a-8acb30ed9d3f",
        "colab": {
          "base_uri": "https://localhost:8080/",
          "height": 102
        }
      },
      "cell_type": "code",
      "source": [
        "## Your solution here\n",
        "from torch import optim\n",
        "model = nn.Sequential(nn.Linear(784, 128),\n",
        "                      nn.ReLU(),\n",
        "                      nn.Linear(128, 64),\n",
        "                      nn.ReLU(),\n",
        "                      nn.Linear(64, 10),\n",
        "                      nn.LogSoftmax(dim=1))\n",
        "\n",
        "criterion = nn.NLLLoss()\n",
        "optimizer = optim.SGD(model.parameters(), lr=0.003)\n",
        "\n",
        "epochs = 5\n",
        "for e in range(epochs):\n",
        "    running_loss = 0\n",
        "    for images, labels in trainloader:\n",
        "        # Flatten MNIST images into a 784 long vector\n",
        "        images = images.view(images.shape[0], -1)\n",
        "    \n",
        "        # TODO: Training pass\n",
        "        optimizer.zero_grad()\n",
        "        output=model.forward(images)\n",
        "        \n",
        "        loss = criterion(output,labels)\n",
        "        loss.backward()\n",
        "        optimizer.step()        \n",
        "        running_loss += loss.item()\n",
        "    else:\n",
        "        print(f\"Training loss: {running_loss/len(trainloader)}\")"
      ],
      "execution_count": 0,
      "outputs": [
        {
          "output_type": "stream",
          "text": [
            "Training loss: 1.9608865342160533\n",
            "Training loss: 0.8928578108676207\n",
            "Training loss: 0.5428165861093668\n",
            "Training loss: 0.44203281790208715\n",
            "Training loss: 0.3938532478646683\n"
          ],
          "name": "stdout"
        }
      ]
    },
    {
      "metadata": {
        "id": "TR4w7RMjXKGg",
        "colab_type": "code",
        "outputId": "09ab37d4-fe4c-4767-9116-608e5af8b2de",
        "colab": {
          "base_uri": "https://localhost:8080/",
          "height": 244
        }
      },
      "cell_type": "code",
      "source": [
        "%matplotlib inline\n",
        "import helper\n",
        "\n",
        "images, labels = next(iter(trainloader))\n",
        "\n",
        "img = images[0].view(1, 784)\n",
        "# Turn off gradients to speed up this part\n",
        "with torch.no_grad():\n",
        "    logits = model.forward(img)\n",
        "\n",
        "# Output of the network are logits, need to take softmax for probabilities\n",
        "ps = F.softmax(logits, dim=1)\n",
        "helper.view_classify(img.view(1, 28, 28), ps)"
      ],
      "execution_count": 0,
      "outputs": [
        {
          "output_type": "display_data",
          "data": {
            "image/png": "[encoded data removed]",
            "text/plain": [
              "<matplotlib.figure.Figure at 0x7f884c91a198>"
            ]
          },
          "metadata": {
            "tags": [],
            "image/png": {
              "width": 424,
              "height": 227
            }
          }
        }
      ]
    },
    {
      "metadata": {
        "id": "y2uRT7PFXKEa",
        "colab_type": "code",
        "colab": {}
      },
      "cell_type": "code",
      "source": [
        ""
      ],
      "execution_count": 0,
      "outputs": []
    },
    {
      "metadata": {
        "id": "0NflVRaLXKCD",
        "colab_type": "code",
        "colab": {}
      },
      "cell_type": "code",
      "source": [
        ""
      ],
      "execution_count": 0,
      "outputs": []
    },
    {
      "metadata": {
        "id": "FOHdwq2bXJz6",
        "colab_type": "code",
        "colab": {}
      },
      "cell_type": "code",
      "source": [
        ""
      ],
      "execution_count": 0,
      "outputs": []
    },
    {
      "metadata": {
        "id": "UrAECROPXJw0",
        "colab_type": "code",
        "colab": {}
      },
      "cell_type": "code",
      "source": [
        ""
      ],
      "execution_count": 0,
      "outputs": []
    },
    {
      "metadata": {
        "id": "xIrMvn5kXJuV",
        "colab_type": "code",
        "colab": {}
      },
      "cell_type": "code",
      "source": [
        ""
      ],
      "execution_count": 0,
      "outputs": []
    }
  ]
}